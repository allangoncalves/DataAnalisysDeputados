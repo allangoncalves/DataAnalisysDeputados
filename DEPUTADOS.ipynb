{
 "cells": [
  {
   "cell_type": "code",
   "execution_count": 1,
   "metadata": {
    "collapsed": true
   },
   "outputs": [],
   "source": [
    "import pandas as pd\n",
    "import numpy as np\n",
    "import csv"
   ]
  },
  {
   "cell_type": "markdown",
   "metadata": {},
   "source": [
    "# Arquivos"
   ]
  },
  {
   "cell_type": "code",
   "execution_count": 2,
   "metadata": {},
   "outputs": [],
   "source": [
    "url_proposicoes = 'proposicoes_PL.csv'\n",
    "proposicoes = pd.read_csv(url_proposicoes)"
   ]
  },
  {
   "cell_type": "code",
   "execution_count": 3,
   "metadata": {
    "collapsed": true
   },
   "outputs": [],
   "source": [
    "url_deputados = 'deputados.csv'\n",
    "deputados = pd.read_csv(url_deputados)"
   ]
  },
  {
   "cell_type": "code",
   "execution_count": 4,
   "metadata": {
    "collapsed": true
   },
   "outputs": [],
   "source": [
    "url_presencas = 'qtdpresenca_bydeputado.csv'\n",
    "df_presencas = pd.read_csv(url_presencas)"
   ]
  },
  {
   "cell_type": "code",
   "execution_count": 5,
   "metadata": {
    "collapsed": true
   },
   "outputs": [],
   "source": [
    "url_ausencias = 'qtdausencia_bydeputado.csv'\n",
    "df_ausencias = pd.read_csv(url_ausencias)"
   ]
  },
  {
   "cell_type": "code",
   "execution_count": 6,
   "metadata": {
    "collapsed": true
   },
   "outputs": [],
   "source": [
    "url_votacoes = 'votacoes.csv'\n",
    "df_votacoes = pd.read_csv(url_votacoes)"
   ]
  },
  {
   "cell_type": "markdown",
   "metadata": {},
   "source": [
    "# Curiosidades"
   ]
  },
  {
   "cell_type": "code",
   "execution_count": 7,
   "metadata": {},
   "outputs": [
    {
     "name": "stdout",
     "output_type": "stream",
     "text": [
      "Número de Deputados:513\n",
      "Número de Deputados com pelo menos uma proposicao:372\n"
     ]
    }
   ],
   "source": [
    "print 'Número de Deputados:{}'.format(deputados['ideCadastro'].count())\n",
    "print 'Número de Deputados com pelo menos uma proposicao:{}'.format(len(proposicoes['autor1_idecadastro'].value_counts()))"
   ]
  },
  {
   "cell_type": "code",
   "execution_count": 8,
   "metadata": {},
   "outputs": [
    {
     "data": {
      "text/html": [
       "<div>\n",
       "<style>\n",
       "    .dataframe thead tr:only-child th {\n",
       "        text-align: right;\n",
       "    }\n",
       "\n",
       "    .dataframe thead th {\n",
       "        text-align: left;\n",
       "    }\n",
       "\n",
       "    .dataframe tbody tr th {\n",
       "        vertical-align: top;\n",
       "    }\n",
       "</style>\n",
       "<table border=\"1\" class=\"dataframe\">\n",
       "  <thead>\n",
       "    <tr style=\"text-align: right;\">\n",
       "      <th></th>\n",
       "      <th>Unnamed: 0</th>\n",
       "      <th>ideCadastro</th>\n",
       "      <th>codOrcamento</th>\n",
       "      <th>condicao</th>\n",
       "      <th>matricula</th>\n",
       "      <th>idParlamentar</th>\n",
       "      <th>nome</th>\n",
       "      <th>nomeParlamentar</th>\n",
       "      <th>urlFoto</th>\n",
       "      <th>sexo</th>\n",
       "      <th>uf</th>\n",
       "      <th>partido</th>\n",
       "      <th>gabinete</th>\n",
       "      <th>anexo</th>\n",
       "      <th>fone</th>\n",
       "      <th>email</th>\n",
       "      <th>comissoes</th>\n",
       "    </tr>\n",
       "  </thead>\n",
       "  <tbody>\n",
       "    <tr>\n",
       "      <th>224</th>\n",
       "      <td>224</td>\n",
       "      <td>141536</td>\n",
       "      <td>2450.0</td>\n",
       "      <td>Titular</td>\n",
       "      <td>134</td>\n",
       "      <td>5830776</td>\n",
       "      <td>RÔMULO JOSÉ DE GOUVEIA</td>\n",
       "      <td>RÔMULO GOUVEIA</td>\n",
       "      <td>http://www.camara.gov.br/internet/deputado/ban...</td>\n",
       "      <td>masculino</td>\n",
       "      <td>PB</td>\n",
       "      <td>PSD</td>\n",
       "      <td>411</td>\n",
       "      <td>4</td>\n",
       "      <td>3215-5411</td>\n",
       "      <td>dep.romulogouveia@camara.gov.br</td>\n",
       "      <td>{u'titular': None, u'suplente': None}</td>\n",
       "    </tr>\n",
       "  </tbody>\n",
       "</table>\n",
       "</div>"
      ],
      "text/plain": [
       "     Unnamed: 0  ideCadastro  codOrcamento condicao  matricula  idParlamentar  \\\n",
       "224         224       141536        2450.0  Titular        134        5830776   \n",
       "\n",
       "                       nome nomeParlamentar  \\\n",
       "224  RÔMULO JOSÉ DE GOUVEIA  RÔMULO GOUVEIA   \n",
       "\n",
       "                                               urlFoto       sexo  uf partido  \\\n",
       "224  http://www.camara.gov.br/internet/deputado/ban...  masculino  PB     PSD   \n",
       "\n",
       "     gabinete  anexo       fone                            email  \\\n",
       "224       411      4  3215-5411  dep.romulogouveia@camara.gov.br   \n",
       "\n",
       "                                 comissoes  \n",
       "224  {u'titular': None, u'suplente': None}  "
      ]
     },
     "execution_count": 8,
     "metadata": {},
     "output_type": "execute_result"
    }
   ],
   "source": [
    "##DEPUTADO COM MAIOR NUMERO DE PROPOSICOES\n",
    "deputados[ deputados['ideCadastro'] == 141536]"
   ]
  },
  {
   "cell_type": "code",
   "execution_count": null,
   "metadata": {},
   "outputs": [],
   "source": []
  },
  {
   "cell_type": "markdown",
   "metadata": {},
   "source": [
    "# Adicionando o número de proposições ao dataframe principal"
   ]
  },
  {
   "cell_type": "code",
   "execution_count": 9,
   "metadata": {
    "collapsed": true
   },
   "outputs": [],
   "source": [
    "num_proposicoes = proposicoes['autor1_idecadastro'].value_counts()\n",
    "df_proposicoes_num = pd.DataFrame({'ideCadastro': num_proposicoes.index, 'qtdPropostas': num_proposicoes})\n",
    "df_proposicoes_num.reset_index(drop=True, inplace=True)"
   ]
  },
  {
   "cell_type": "code",
   "execution_count": 10,
   "metadata": {},
   "outputs": [
    {
     "data": {
      "text/plain": [
       "ideCadastro     372\n",
       "qtdPropostas    372\n",
       "dtype: int64"
      ]
     },
     "execution_count": 10,
     "metadata": {},
     "output_type": "execute_result"
    }
   ],
   "source": [
    "df_proposicoes_num.count()"
   ]
  },
  {
   "cell_type": "code",
   "execution_count": 11,
   "metadata": {},
   "outputs": [
    {
     "data": {
      "text/plain": [
       "Unnamed: 0         513\n",
       "ideCadastro        513\n",
       "codOrcamento       488\n",
       "condicao           513\n",
       "matricula          513\n",
       "idParlamentar      513\n",
       "nome               513\n",
       "nomeParlamentar    513\n",
       "urlFoto            513\n",
       "sexo               513\n",
       "uf                 513\n",
       "partido            513\n",
       "gabinete           513\n",
       "anexo              513\n",
       "fone               513\n",
       "email              513\n",
       "comissoes          513\n",
       "qtdPropostas       364\n",
       "dtype: int64"
      ]
     },
     "execution_count": 11,
     "metadata": {},
     "output_type": "execute_result"
    }
   ],
   "source": [
    "deputados = deputados.merge(df_proposicoes_num, on='ideCadastro', how='left')\n",
    "deputados.count()"
   ]
  },
  {
   "cell_type": "code",
   "execution_count": null,
   "metadata": {},
   "outputs": [],
   "source": []
  },
  {
   "cell_type": "markdown",
   "metadata": {},
   "source": [
    "# Adicionando o número de presencas ao dataframe principal"
   ]
  },
  {
   "cell_type": "code",
   "execution_count": 12,
   "metadata": {
    "collapsed": true
   },
   "outputs": [],
   "source": [
    "df_presencas['id_dep'] = df_presencas['id_dep'].astype(int)\n",
    "del df_presencas['nome']\n",
    "del df_presencas['partido']"
   ]
  },
  {
   "cell_type": "code",
   "execution_count": 13,
   "metadata": {},
   "outputs": [],
   "source": [
    "df_presencas = df_presencas.rename(columns={'id_dep': 'ideCadastro', 'qtd': 'qtdPresencas'})\n",
    "df_presencas.reset_index(drop=True, inplace=True)\n",
    "df_presencas.drop_duplicates(subset='ideCadastro', inplace=True)"
   ]
  },
  {
   "cell_type": "code",
   "execution_count": 14,
   "metadata": {},
   "outputs": [
    {
     "data": {
      "text/plain": [
       "ideCadastro     519\n",
       "qtdPresencas    519\n",
       "dtype: int64"
      ]
     },
     "execution_count": 14,
     "metadata": {},
     "output_type": "execute_result"
    }
   ],
   "source": [
    "df_presencas.count()"
   ]
  },
  {
   "cell_type": "code",
   "execution_count": 15,
   "metadata": {},
   "outputs": [
    {
     "data": {
      "text/plain": [
       "Unnamed: 0         513\n",
       "ideCadastro        513\n",
       "codOrcamento       488\n",
       "condicao           513\n",
       "matricula          513\n",
       "idParlamentar      513\n",
       "nome               513\n",
       "nomeParlamentar    513\n",
       "urlFoto            513\n",
       "sexo               513\n",
       "uf                 513\n",
       "partido            513\n",
       "gabinete           513\n",
       "anexo              513\n",
       "fone               513\n",
       "email              513\n",
       "comissoes          513\n",
       "qtdPropostas       364\n",
       "qtdPresencas       507\n",
       "dtype: int64"
      ]
     },
     "execution_count": 15,
     "metadata": {},
     "output_type": "execute_result"
    }
   ],
   "source": [
    "deputados = deputados.merge(df_presencas, on='ideCadastro', how='left')\n",
    "deputados.count()"
   ]
  },
  {
   "cell_type": "code",
   "execution_count": null,
   "metadata": {
    "collapsed": true
   },
   "outputs": [],
   "source": []
  },
  {
   "cell_type": "markdown",
   "metadata": {},
   "source": [
    "# Adicionando o número de ausencias ao dataframe principal"
   ]
  },
  {
   "cell_type": "code",
   "execution_count": 16,
   "metadata": {
    "collapsed": true
   },
   "outputs": [],
   "source": [
    "df_ausencias.columns\n",
    "del df_ausencias['nome']\n",
    "del df_ausencias['partido']"
   ]
  },
  {
   "cell_type": "code",
   "execution_count": 17,
   "metadata": {},
   "outputs": [],
   "source": [
    "df_ausencias = df_ausencias.rename(columns={'id_dep': 'ideCadastro', 'qtd': 'qtdAusencias'})\n",
    "df_ausencias['ideCadastro'] = df_ausencias['ideCadastro'].astype(int)\n",
    "df_ausencias.reset_index(drop=True, inplace=True)\n",
    "df_ausencias.drop_duplicates(inplace=True)"
   ]
  },
  {
   "cell_type": "code",
   "execution_count": 18,
   "metadata": {},
   "outputs": [
    {
     "data": {
      "text/plain": [
       "Unnamed: 0         502\n",
       "ideCadastro        502\n",
       "codOrcamento       477\n",
       "condicao           502\n",
       "matricula          502\n",
       "idParlamentar      502\n",
       "nome               502\n",
       "nomeParlamentar    502\n",
       "urlFoto            502\n",
       "sexo               502\n",
       "uf                 502\n",
       "partido            502\n",
       "gabinete           502\n",
       "anexo              502\n",
       "fone               502\n",
       "email              502\n",
       "comissoes          502\n",
       "qtdPropostas       357\n",
       "qtdPresencas       498\n",
       "qtdAusencias       502\n",
       "dtype: int64"
      ]
     },
     "execution_count": 18,
     "metadata": {},
     "output_type": "execute_result"
    }
   ],
   "source": [
    "deputados = deputados.merge(df_ausencias, on='ideCadastro', how='inner')\n",
    "deputados.drop_duplicates(subset='ideCadastro', inplace=True)\n",
    "deputados.count()"
   ]
  },
  {
   "cell_type": "code",
   "execution_count": null,
   "metadata": {
    "collapsed": true
   },
   "outputs": [],
   "source": []
  },
  {
   "cell_type": "markdown",
   "metadata": {},
   "source": [
    "# Informações básicas sobre as votações"
   ]
  },
  {
   "cell_type": "code",
   "execution_count": 19,
   "metadata": {
    "scrolled": false
   },
   "outputs": [
    {
     "data": {
      "text/plain": [
       "160976    597\n",
       "74163     597\n",
       "74041     592\n",
       "152605    587\n",
       "178898    581\n",
       "160607    581\n",
       "74862     575\n",
       "178993    575\n",
       "160518    574\n",
       "178978    574\n",
       "73531     572\n",
       "73434     568\n",
       "74352     567\n",
       "160643    567\n",
       "141335    566\n",
       "164360    565\n",
       "74171     565\n",
       "178893    563\n",
       "132504    563\n",
       "74283     562\n",
       "178837    562\n",
       "178890    561\n",
       "73655     560\n",
       "160649    559\n",
       "178986    557\n",
       "73579     557\n",
       "178985    555\n",
       "178894    554\n",
       "178876    553\n",
       "141405    553\n",
       "         ... \n",
       "74111       1\n",
       "141479      1\n",
       "154997      1\n",
       "178921      1\n",
       "160608      1\n",
       "122195      1\n",
       "141519      1\n",
       "141390      1\n",
       "160647      1\n",
       "193069      1\n",
       "74581       1\n",
       "74491       1\n",
       "74696       1\n",
       "74284       1\n",
       "160529      1\n",
       "174861      1\n",
       "160585      1\n",
       "141486      1\n",
       "141461      1\n",
       "74363       1\n",
       "160537      1\n",
       "160568      1\n",
       "141378      1\n",
       "160584      1\n",
       "74635       1\n",
       "74053       1\n",
       "141446      1\n",
       "160680      1\n",
       "74222       1\n",
       "74027       1\n",
       "Name: ideCadastro, Length: 860, dtype: int64"
      ]
     },
     "execution_count": 19,
     "metadata": {},
     "output_type": "execute_result"
    }
   ],
   "source": [
    "df_votacoes = df_votacoes.rename(columns={'id_dep': 'ideCadastro'})\n",
    "df_votacoes = df_votacoes[df_votacoes['ideCadastro'].notnull()]\n",
    "df_votacoes['ideCadastro'] = df_votacoes['ideCadastro'].astype(int)\n",
    "df_votacoes['ideCadastro'].value_counts()"
   ]
  },
  {
   "cell_type": "code",
   "execution_count": 20,
   "metadata": {},
   "outputs": [
    {
     "data": {
      "text/plain": [
       "Unnamed: 0         502\n",
       "ideCadastro        502\n",
       "codOrcamento       477\n",
       "condicao           502\n",
       "matricula          502\n",
       "idParlamentar      502\n",
       "nome               502\n",
       "nomeParlamentar    502\n",
       "urlFoto            502\n",
       "sexo               502\n",
       "uf                 502\n",
       "partido            502\n",
       "gabinete           502\n",
       "anexo              502\n",
       "fone               502\n",
       "email              502\n",
       "comissoes          502\n",
       "qtdPropostas       357\n",
       "qtdPresencas       498\n",
       "qtdAusencias       502\n",
       "dtype: int64"
      ]
     },
     "execution_count": 20,
     "metadata": {},
     "output_type": "execute_result"
    }
   ],
   "source": [
    "deputados.count()"
   ]
  },
  {
   "cell_type": "code",
   "execution_count": 21,
   "metadata": {},
   "outputs": [],
   "source": [
    "deputados.fillna(0, inplace=True)\n",
    "deputados.to_csv('deputados-alterado.csv', sep=',')"
   ]
  },
  {
   "cell_type": "code",
   "execution_count": null,
   "metadata": {},
   "outputs": [],
   "source": []
  }
 ],
 "metadata": {
  "kernelspec": {
   "display_name": "Python 2",
   "language": "python",
   "name": "python2"
  },
  "language_info": {
   "codemirror_mode": {
    "name": "ipython",
    "version": 2
   },
   "file_extension": ".py",
   "mimetype": "text/x-python",
   "name": "python",
   "nbconvert_exporter": "python",
   "pygments_lexer": "ipython2",
   "version": "2.7.14"
  }
 },
 "nbformat": 4,
 "nbformat_minor": 2
}
